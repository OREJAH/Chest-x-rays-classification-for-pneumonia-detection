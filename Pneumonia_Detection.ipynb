{
  "nbformat": 4,
  "nbformat_minor": 0,
  "metadata": {
    "colab": {
      "name": "Pneumonia Detection.ipynb",
      "provenance": []
    },
    "kernelspec": {
      "name": "python3",
      "display_name": "Python 3"
    },
    "language_info": {
      "name": "python"
    },
    "accelerator": "GPU"
  },
  "cells": [
    {
      "cell_type": "markdown",
      "source": [
        "# Deep Learning\n",
        "\n",
        "#### Below are the imports required for the completion of this project"
      ],
      "metadata": {
        "id": "wS_8wY-8ubLI"
      }
    },
    {
      "cell_type": "code",
      "source": [
        "import tensorflow as tf\n",
        "import numpy as np\n",
        "import matplotlib.pyplot as plt\n",
        "from pathlib import path\n",
        "\n",
        "tf.random.set_seed(\n",
        "    4\n",
        ")"
      ],
      "metadata": {
        "id": "RPQTrl0QumJx"
      },
      "execution_count": null,
      "outputs": []
    },
    {
      "cell_type": "markdown",
      "source": [
        "# Dataset\n",
        "### Overview\n",
        "\n",
        "The dataset is organized into three folders (train, test, val) and contains subfolders for each image category (Pneumonia/Normal). There are 5,863 X-Ray images (JPEG) and two categories (Pneumonia/Normal). The normal chest X-ray (left panel) depicts clear lungs without any areas of abnormal opacification in the image. Bacterial pneumonia (middle) typically exhibits a focal lobar consolidation, in this case in the right upper lobe (white arrows), whereas viral pneumonia (right) manifests with a more diffuse ‘‘interstitial’’ pattern in both lungs.\n",
        "\n",
        "Chest X-ray images (anterior-posterior) were selected from retrospective cohorts of pediatric patients of one to five years old from Guangzhou Women and Children’s Medical Center, Guangzhou. All chest X-ray imaging was performed as part of patients’ routine clinical care.\n",
        "\n",
        "For the analysis of chest x-ray images, all chest radiographs were initially screened for quality control by removing all low quality or unreadable scans. The diagnoses for the images were then graded by two expert physicians before being cleared for training the AI system. In order to account for any grading errors, the evaluation set was also checked by a third expert.\n",
        "\n",
        "# Task\n",
        "\n",
        "The Chest X-rays gotten from Kaggle will be used to create a deep learning model using Convolutional Neural Network (CNN) which will classify the chest x-ray images as either 'pneumonia' or 'normal'. This computer-aided diagnosis can be used by hospitals for early detection of pneumonia so that the pneumonia-related mortality, especially in children, can be reduced."
      ],
      "metadata": {
        "id": "qbmSQPvR1OGV"
      }
    },
    {
      "cell_type": "code",
      "source": [
        "# Downloading the dataset from Dropbox\n",
        "\n",
        "! wget https://www.dropbox.com/s/tlxserrdhe240lu/archive.zip"
      ],
      "metadata": {
        "id": "Lct67H3G4IWO"
      },
      "execution_count": null,
      "outputs": []
    },
    {
      "cell_type": "code",
      "source": [
        "# Unzipping the data\n",
        "\n",
        "!unzip -q \"archive.zip\""
      ],
      "metadata": {
        "id": "qJzdNiKLfiaY"
      },
      "execution_count": null,
      "outputs": []
    },
    {
      "cell_type": "code",
      "source": [
        "# Creation of Pathlib PATH objects\n",
        "\n",
        "train_path = path(\"chest_xray/train/\")\n",
        "validation_path = path(\"chest_xray/test\")\n",
        "test_path = path(\"chest_xray/val\")"
      ],
      "metadata": {
        "id": "fohXEXTjf7vN"
      },
      "execution_count": null,
      "outputs": []
    },
    {
      "cell_type": "code",
      "source": [
        "# Collecting all the paths within the \"pneumonia\" and \"normal\" folders from the paths above\n",
        "\n",
        "train_image_paths = train.path,glob(\"*/*\")\n",
        "validation_image_paths = validation_path.glob(\"*/*\")\n",
        "\n",
        "# "
      ],
      "metadata": {
        "id": "_42tkOPzjYvg"
      },
      "execution_count": null,
      "outputs": []
    }
  ]
}